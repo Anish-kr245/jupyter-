{
 "cells": [
  {
   "cell_type": "markdown",
   "id": "11af1aa4-4efa-47ff-9f28-2f93d5dad0f3",
   "metadata": {},
   "source": [
    "# Data Science Tools and Ecosystem"
   ]
  },
  {
   "cell_type": "markdown",
   "id": "6e001847-f038-43ab-840e-ac1233aa2e26",
   "metadata": {},
   "source": [
    "In this notebook, Data Science Tools and Ecosystem are summarized."
   ]
  },
  {
   "cell_type": "markdown",
   "id": "0b7aa21f-5c1e-41c0-bb30-5c8dcb767988",
   "metadata": {},
   "source": [
    "Some of the popular languages that Data Scientists use are:\\\n",
    "1.Python\\\n",
    "2.R\\\n",
    "3.Java"
   ]
  },
  {
   "cell_type": "markdown",
   "id": "b3456e64-2c06-4a1e-ba6f-f6c3210b01a7",
   "metadata": {},
   "source": [
    "Some of the commonly used libraries used by Data Scientists include:\\\n",
    "1.Tensorflow\\\n",
    "2.Keras\\\n",
    "3.Pytorch"
   ]
  },
  {
   "cell_type": "markdown",
   "id": "27a90342-541e-4e39-a0ac-da1c51cfc92b",
   "metadata": {
    "tags": []
   },
   "source": [
    "| Data Science Tools | \n",
    "| ------------------ |\n",
    "| Jupyter            | \n",
    "| Power BI           | \n",
    "| R Studio           |\n"
   ]
  },
  {
   "cell_type": "markdown",
   "id": "b25266f5-e684-4d6b-b1ef-169d67d041f9",
   "metadata": {},
   "source": [
    "### Below are a few examples of evaluating arithmetic expressions in Python"
   ]
  },
  {
   "cell_type": "code",
   "execution_count": 4,
   "id": "42d5ffe8-2aa7-4ace-85f8-0cee505f170b",
   "metadata": {
    "tags": []
   },
   "outputs": [
    {
     "data": {
      "text/plain": [
       "17"
      ]
     },
     "execution_count": 4,
     "metadata": {},
     "output_type": "execute_result"
    }
   ],
   "source": [
    "(3*4)+5 # This a simple arithmetic expression to mutiply then add integers"
   ]
  },
  {
   "cell_type": "code",
   "execution_count": 5,
   "id": "a1b436bf-67dd-49b2-a2bc-2ab249f76d06",
   "metadata": {
    "tags": []
   },
   "outputs": [
    {
     "data": {
      "text/plain": [
       "3.3333333333333335"
      ]
     },
     "execution_count": 5,
     "metadata": {},
     "output_type": "execute_result"
    }
   ],
   "source": [
    "200/60  # This will convert 200 minutes to hours by diving by 60"
   ]
  },
  {
   "cell_type": "markdown",
   "id": "4d156cb8-4cbe-414f-a53a-06aa5bc49248",
   "metadata": {},
   "source": [
    "Objectives:\n",
    "1. Some of the popular languages that Data Scientists use are:\n",
    "2. Some of the commonly used libraries used by Data Scientists include:\n",
    "3. Data Science Tools \n",
    "4. evaluating arithmetic expressions in Python"
   ]
  },
  {
   "cell_type": "markdown",
   "id": "622041b3-bd00-4076-b2ef-60ff73107fde",
   "metadata": {
    "tags": []
   },
   "source": [
    "## Author\n",
    " Anish Kumar"
   ]
  },
  {
   "cell_type": "code",
   "execution_count": null,
   "id": "21159ad1-1937-4384-b2c0-2c36e028f5ca",
   "metadata": {},
   "outputs": [],
   "source": []
  }
 ],
 "metadata": {
  "kernelspec": {
   "display_name": "Python",
   "language": "python",
   "name": "conda-env-python-py"
  },
  "language_info": {
   "codemirror_mode": {
    "name": "ipython",
    "version": 3
   },
   "file_extension": ".py",
   "mimetype": "text/x-python",
   "name": "python",
   "nbconvert_exporter": "python",
   "pygments_lexer": "ipython3",
   "version": "3.7.12"
  }
 },
 "nbformat": 4,
 "nbformat_minor": 5
}
